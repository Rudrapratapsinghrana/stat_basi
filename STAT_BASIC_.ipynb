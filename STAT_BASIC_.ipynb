{
  "nbformat": 4,
  "nbformat_minor": 0,
  "metadata": {
    "colab": {
      "provenance": []
    },
    "kernelspec": {
      "name": "python3",
      "display_name": "Python 3"
    },
    "language_info": {
      "name": "python"
    }
  },
  "cells": [
    {
      "cell_type": "markdown",
      "source": [
        "# STATISTIC BASIC\n",
        "\n",
        "Q1=> What is statistics, and why is it important?\n",
        "\n",
        "ans=> Statistics is the study of collecting, analyzing, interpreting, and presenting data to make informed decisions.\n",
        "\n",
        "\n",
        "Q2=> What are the two main types of statistics?\n",
        "\n",
        "ans=>The two main types of statistics are descriptive statistics (summarizing data) and inferential statistics (making predictions).\n",
        "\n",
        "\n",
        "Q3=> What are descriptive statistic?\n",
        "\n",
        "ans=>Descriptive statistics summarize and describe the main features of a dataset using measures like mean, median, and mode.\n",
        "\n",
        "\n",
        "Q4=> What is inferential statistics?\n",
        "\n",
        "ans=>Inferential statistics use sample data to make generalizations or predictions about a larger population.\n",
        "\n",
        "\n",
        "Q5=> What is sampling in statistics?\n",
        "\n",
        "ans=>Sampling is the process of selecting a subset of a population to analyze and draw conclusions.\n",
        "\n",
        "\n",
        "Q6=> What are the different types of sampling methods?\n",
        "\n",
        "ans=>Sampling methods include simple random, stratified, systematic, cluster, and convenience sampling.\n",
        "\n",
        "\n",
        "Q7=> What is the difference between random and non-random sampling?\n",
        "\n",
        "ans=>Random sampling gives every individual an equal chance of selection, while non-random sampling does not.\n",
        "\n",
        "\n",
        "Q8=> Define and give examples of qualitative and quantitative data?\n",
        "\n",
        "ans=>Qualitative data (e.g., colors, names) represent categories, while quantitative data (e.g., height, weight) are numerical.\n",
        "\n",
        "\n",
        "Q9=> What are the different types of data in statistics?\n",
        "\n",
        "ans=>Types of data include nominal, ordinal, interval, and ratio data.\n",
        "\n",
        "\n",
        "Q10=> Explain nominal, ordinal, interval, and ratio levels of measurement?\n",
        "\n",
        "ans=>Nominal (categories), ordinal (ranked order), interval (equal intervals, no true zero), ratio (true zero).\n",
        "\n",
        "\n",
        "Q11=> What is the measure of central tendency?\n",
        "\n",
        "ans=>Measures of central tendency describe the center of a dataset (mean, median, mode).\n",
        "\n",
        "\n",
        "Q12=> Define mean, median, and mode?\n",
        "\n",
        "ans=>Mean is the average, median is the middle value, and mode is the most frequent value.\n",
        "\n",
        "\n",
        "Q13=> What is the significance of the measure of central tendency?\n",
        "\n",
        "ans=>Measures of central tendency help summarize and compare data distributions.\n",
        "\n",
        "\n",
        "Q14=> What is variance, and how is it calculated?\n",
        "\n",
        "ans=>Variance measures how much data points deviate from the mean and is calculated as the average of squared differences from the mean.\n",
        "\n",
        "\n",
        "Q15=> What is standard deviation, and why is it important?\n",
        "\n",
        "\n",
        "ans=>Standard deviation is the square root of variance and indicates data dispersion around the mean.\n",
        "\n",
        "Q16=> Define and explain the term range in statistics?\n",
        "\n",
        "ans=>Range is the difference between the highest and lowest values in a dataset\n",
        "\n",
        "\n",
        "Q17=> What is the difference between variance and standard deviation?\n",
        "\n",
        "ans=>Variance is the average squared deviation, while standard deviation is its square root, making it more interpretable.\n",
        "\n",
        "\n",
        "Q16=> What is skewness in a dataset?\n",
        "\n",
        "ans=>Skewness measures the asymmetry of a dataset's distribution.\n",
        "\n",
        "Q17=> What does it mean if a dataset is positively or negatively skewed?\n",
        "\n",
        "ans=>A positively skewed dataset has a longer right tail, while a negatively skewed dataset has a longer left tail.\n",
        "\n",
        "\n",
        "Q18=> Define and explain kurtosis?\n",
        "\n",
        "ans=>Kurtosis measures the peakedness or flatness of a distribution compared to a normal distribution.\n",
        "\n",
        "\n",
        "Q19=> What is the purpose of covariance?\n",
        "\n",
        "ans=>Covariance shows the direction of the relationship between two variables\n",
        "\n",
        "Q20=> What does correlation measure in statistics?\n",
        "\n",
        "ans=>Correlation measures the strength and direction of the relationship between two variables (ranges from -1 to 1).\n",
        "\n",
        "\n",
        "Q21=> What is the difference between covariance and correlation?\n",
        "\n",
        "ans=>Covariance only indicates direction, while correlation quantifies strength and standardizes the relationship.\n",
        "\n",
        "\n",
        "Q22=> What are some real-world applications of statistics?\n",
        "\n",
        "ans=>Real-world applications of statistics include healthcare, business, finance, sports analytics, and machine learning."
      ],
      "metadata": {
        "id": "plfAiFBmx6EK"
      }
    },
    {
      "cell_type": "code",
      "source": [
        "# Q1=> How do you calculate the mean, median, and mode of a dataset?\n",
        "\n",
        "\n",
        "import numpy as np\n",
        "import pandas as pd\n",
        "import seaborn as sns\n",
        "import matplotlib.pyplot as plt\n",
        "from scipy import stats\n",
        "\n",
        "\n",
        "data = [10, 20, 20, 30, 40]\n",
        "print(np.mean(data), np.median(data), stats.mode(data)[0][0])\n"
      ],
      "metadata": {
        "id": "lBz0lY3L2YvA"
      },
      "execution_count": null,
      "outputs": []
    },
    {
      "cell_type": "code",
      "source": [
        "# Q2=>Write a Python program to compute the variance and standard deviation of a dataset?\n",
        "import numpy as np\n",
        "import pandas as pd\n",
        "import seaborn as sns\n",
        "import matplotlib.pyplot as plt\n",
        "from scipy import stats\n",
        "\n",
        "\n",
        "data = [10, 20, 20, 30, 40]\n",
        "print(np.var(data, ddof=1), np.std(data, ddof=1))\n"
      ],
      "metadata": {
        "id": "kVQGXfpS2gkY"
      },
      "execution_count": null,
      "outputs": []
    },
    {
      "cell_type": "code",
      "source": [
        "# Q3=> Create a dataset and classify it into nominal, ordinal, interval, and ratio types?\n",
        "\n",
        "\n",
        "import numpy as np\n",
        "import pandas as pd\n",
        "import seaborn as sns\n",
        "import matplotlib.pyplot as plt\n",
        "from scipy import stats\n",
        "\n",
        "nominal = ['Red', 'Blue']; ordinal = ['Low', 'Medium', 'High']\n",
        "interval = [-5, 0, 10]; ratio = [1, 2, 5]"
      ],
      "metadata": {
        "id": "Ay2NGDTB2o9R"
      },
      "execution_count": null,
      "outputs": []
    },
    {
      "cell_type": "code",
      "source": [
        "# Q4=> Implement sampling techniques like random sampling and stratified sampling?\n",
        "import numpy as np\n",
        "import pandas as pd\n",
        "import seaborn as sns\n",
        "import matplotlib.pyplot as plt\n",
        "from scipy import stats\n",
        "\n",
        "data = [10, 20, 20, 30, 40]\n",
        "\n",
        "sample = np.random.choice(data, 3, replace=False)\n",
        "df = pd.DataFrame({'A': np.random.randint(1, 100, 10), 'Group': np.random.choice(['X', 'Y'], 10)})\n",
        "strata = df.groupby('Group', group_keys=False).apply(lambda x: x.sample(2))\n",
        "\n"
      ],
      "metadata": {
        "id": "cDo-DStd29Hb"
      },
      "execution_count": null,
      "outputs": []
    },
    {
      "cell_type": "code",
      "source": [
        "\n",
        "# Q5=> Write a Python function to calculate the range of a dataset?\n",
        "\n",
        "def calculate_range(dataset):\n",
        "    minimum = min(dataset)\n",
        "    maximum = max(dataset)\n",
        "    return maximum - minimum\n",
        "\n",
        "data = [10, 20, 20, 30, 40]\n",
        "print(calculate_range(data))"
      ],
      "metadata": {
        "id": "vHRBuwaY3KL3"
      },
      "execution_count": null,
      "outputs": []
    },
    {
      "cell_type": "code",
      "source": [
        "\n",
        "# Q6=> Create a dataset and plot its histogram to visualize skewness?\n",
        "import numpy as np\n",
        "import pandas as pd\n",
        "import seaborn as sns\n",
        "import matplotlib.pyplot as plt\n",
        "from scipy import stats\n",
        "\n",
        "data = [10, 20, 20, 30, 40]\n",
        "plt.hist(data)\n",
        "plt.show()"
      ],
      "metadata": {
        "id": "ssTKFgHd3R0o"
      },
      "execution_count": null,
      "outputs": []
    },
    {
      "cell_type": "code",
      "source": [
        "\n",
        "\n",
        "# Q7=> Calculate skewness and kurtosis of a dataset using Python libraries?\n",
        "\n",
        "import pandas as pd\n",
        "import numpy as np\n",
        "import matplotlib.pyplot as plt\n",
        "import seaborn as sns\n",
        "from scipy.stats import skew, kurtosis\n",
        "\n",
        "data = [10, 20, 20, 30, 40]\n",
        "print(skew(data), kurtosis(data))"
      ],
      "metadata": {
        "id": "6lKSkVvm3VQS"
      },
      "execution_count": null,
      "outputs": []
    },
    {
      "cell_type": "code",
      "source": [
        "# Q8=> Generate a dataset and demonstrate positive and negative skewness?\n",
        "\n",
        "import numpy as np\n",
        "import pandas as pd\n",
        "import seaborn as sns\n",
        "import matplotlib.pyplot as plt\n",
        "from scipy import stats\n",
        "\n",
        "pos_skew = [1, 2, 3, 4, 10]; neg_skew = [1, 6, 7, 8, 9]\n",
        "print(stats.skew(pos_skew), stats.skew(neg_skew))"
      ],
      "metadata": {
        "id": "rHJQTV6z3b6c"
      },
      "execution_count": null,
      "outputs": []
    },
    {
      "cell_type": "code",
      "source": [
        "# Q9=> Write a Python script to calculate covariance between two datasets?\n",
        "\n",
        "import numpy as np\n",
        "import pandas as pd\n",
        "import seaborn as sns\n",
        "import matplotlib.pyplot as plt\n",
        "from scipy import stats\n",
        "\n",
        "x, y = np.random.rand(10), np.random.rand(10)\n",
        "print(np.cov(x, y)[0, 1])\n"
      ],
      "metadata": {
        "id": "xzJm06o-3tWX"
      },
      "execution_count": null,
      "outputs": []
    },
    {
      "cell_type": "code",
      "source": [
        "\n",
        "# Q10=> Write a Python script to calculate the correlation coefficient between two datasets?\n",
        "\n",
        "import numpy as np\n",
        "import pandas as pd\n",
        "import seaborn as sns\n",
        "import matplotlib.pyplot as plt\n",
        "from scipy import stats\n",
        "\n",
        "x, y = np.random.rand(10), np.random.rand(10)\n",
        "\n",
        "print(np.corrcoef(x, y)[0, 1])\n"
      ],
      "metadata": {
        "id": "Em5B6tJA3_0p"
      },
      "execution_count": null,
      "outputs": []
    },
    {
      "cell_type": "code",
      "source": [
        "\n",
        "# Q11=> Create a scatter plot to visualize the relationship between two variables?\n",
        "\n",
        "import numpy as np\n",
        "import pandas as pd\n",
        "import seaborn as sns\n",
        "import matplotlib.pyplot as plt\n",
        "from scipy import stats\n",
        "\n",
        "x, y = np.random.rand(10), np.random.rand(10)\n",
        "plt.scatter(x, y)\n",
        "plt.show()\n"
      ],
      "metadata": {
        "id": "wwZ5cdeW4FWc"
      },
      "execution_count": null,
      "outputs": []
    },
    {
      "cell_type": "code",
      "source": [
        "# Q12=> Implement and compare simple random sampling and systematic sampling?\n",
        "\n",
        "import numpy as np\n",
        "import pandas as pd\n",
        "import seaborn as sns\n",
        "import matplotlib.pyplot as plt\n",
        "from scipy import stats\n",
        "\n",
        "random_sample = np.random.choice(data, 3, replace=False)\n",
        "systematic_sample = data[::2]\n",
        "print(random_sample, systematic_sample)\n",
        "\n"
      ],
      "metadata": {
        "id": "HFTYuCpm4MBB"
      },
      "execution_count": null,
      "outputs": []
    },
    {
      "cell_type": "code",
      "source": [
        "# Q13=> Calculate the mean, median, and mode of grouped data?\n",
        "\n",
        "import numpy as np\n",
        "import pandas as pd\n",
        "import seaborn as sns\n",
        "import matplotlib.pyplot as plt\n",
        "from scipy import stats\n",
        "\n",
        "df = pd.DataFrame({'Class': ['0-10', '10-20'], 'Freq': [5, 10]})\n",
        "df['Mid'] = [5, 15]\n",
        "mean = np.sum(df['Mid'] * df['Freq']) / np.sum(df['Freq'])\n",
        "print(mean)\n"
      ],
      "metadata": {
        "id": "TpWLO_Rs4WLo"
      },
      "execution_count": null,
      "outputs": []
    },
    {
      "cell_type": "code",
      "source": [
        "\n",
        "# Q14=> Simulate data using Python and calculate its central tendency and dispersion?\n",
        "\n",
        "import numpy as np\n",
        "import pandas as pd\n",
        "import seaborn as sns\n",
        "import matplotlib.pyplot as plt\n",
        "from scipy import stats\n",
        "\n",
        "\n",
        "sim_data = np.random.randn(100)\n",
        "print(np.mean(sim_data), np.std(sim_data))\n",
        "\n"
      ],
      "metadata": {
        "id": "2ys4bVeV4fld"
      },
      "execution_count": null,
      "outputs": []
    },
    {
      "cell_type": "code",
      "source": [
        "# Q15=> Use NumPy or pandas to summarize a dataset’s descriptive statistics?\n",
        "\n",
        "\n",
        "import numpy as np\n",
        "import pandas as pd\n",
        "import seaborn as sns\n",
        "import matplotlib.pyplot as plt\n",
        "from scipy import stats\n",
        "\n",
        "\n",
        "print(pd.DataFrame(data).describe())\n",
        "\n"
      ],
      "metadata": {
        "id": "ZSozbL0c4md6"
      },
      "execution_count": null,
      "outputs": []
    },
    {
      "cell_type": "code",
      "source": [
        "\n",
        "# Q16=> Plot a boxplot to understand the spread and identify outliers?\n",
        "\n",
        "import numpy as np\n",
        "import pandas as pd\n",
        "import seaborn as sns\n",
        "import matplotlib.pyplot as plt\n",
        "from scipy import stats\n",
        "\n",
        "data = [10, 20, 20, 30, 40]\n",
        "plt.boxplot(data)\n",
        "plt.show()"
      ],
      "metadata": {
        "id": "mQNKHkp_46CG"
      },
      "execution_count": null,
      "outputs": []
    },
    {
      "cell_type": "code",
      "source": [
        "\n",
        "\n",
        "# Q17=> Calculate the interquartile range (IQR) of a dataset?\n",
        "\n",
        "import numpy as np\n",
        "import pandas as pd\n",
        "import seaborn as sns\n",
        "import matplotlib.pyplot as plt\n",
        "from scipy import stats\n",
        "\n",
        "data = [10, 20, 20, 30, 40]\n",
        "q1, q3 = np.percentile(data, [25, 75])\n",
        "print(q3 - q1)"
      ],
      "metadata": {
        "id": "yJDn2v4V48m4"
      },
      "execution_count": null,
      "outputs": []
    },
    {
      "cell_type": "code",
      "source": [
        "\n",
        "# Q18=> Implement Z-score normalization and explain its significance?\n",
        "\n",
        "import numpy as np\n",
        "import pandas as pd\n",
        "import seaborn as sns\n",
        "import matplotlib.pyplot as plt\n",
        "from scipy import stats\n",
        "\n",
        "data = [10, 20, 20, 30, 40]\n",
        "z_scores = (data - np.mean(data)) / np.std(data)\n",
        "print(z_scores)"
      ],
      "metadata": {
        "id": "i36fwQf85D8i"
      },
      "execution_count": null,
      "outputs": []
    },
    {
      "cell_type": "code",
      "source": [
        "\n",
        "# Q19=> Compare two datasets using their standard deviations?\n",
        "\n",
        "import numpy as np\n",
        "import pandas as pd\n",
        "import seaborn as sns\n",
        "import matplotlib.pyplot as plt\n",
        "from scipy import stats\n",
        "\n",
        "data1 = [10, 20, 20, 30, 40]\n",
        "data2 = [5, 10, 15, 20, 25]\n",
        "\n",
        "print(np.std(data1), np.std(data2))\n",
        "\n"
      ],
      "metadata": {
        "id": "mvkGLR8V5HIo"
      },
      "execution_count": null,
      "outputs": []
    },
    {
      "cell_type": "code",
      "source": [
        "# Q20=> Write a Python program to visualize covariance using a heatmap?\n",
        "\n",
        "\n",
        "import numpy as np\n",
        "import pandas as pd\n",
        "import seaborn as sns\n",
        "import matplotlib.pyplot as plt\n",
        "from scipy import stats\n",
        "\n",
        "sns.heatmap(np.cov(x, y), annot=True); plt.show()\n",
        "\n"
      ],
      "metadata": {
        "id": "w3vZHlL85SQY"
      },
      "execution_count": null,
      "outputs": []
    },
    {
      "cell_type": "code",
      "source": [
        "# Q21=> Use seaborn to create a correlation matrix for a dataset?\n",
        "\n",
        "import numpy as np\n",
        "import pandas as pd\n",
        "import seaborn as sns\n",
        "import matplotlib.pyplot as plt\n",
        "from scipy import stats\n",
        "\n",
        "sns.heatmap(df.corr(), annot=True); plt.show()"
      ],
      "metadata": {
        "id": "q9vSppCI5bll"
      },
      "execution_count": null,
      "outputs": []
    },
    {
      "cell_type": "code",
      "source": [
        "\n",
        "# Q21=> Use seaborn to create a correlation matrix for a dataset?\n",
        "\n",
        "import numpy as np\n",
        "import pandas as pd\n",
        "import seaborn as sns\n",
        "import matplotlib.pyplot as plt\n",
        "from scipy import stats\n",
        "\n",
        "sns.heatmap(df.corr(), annot=True); plt.show()"
      ],
      "metadata": {
        "id": "lmBWR5Ta5gLC"
      },
      "execution_count": null,
      "outputs": []
    },
    {
      "cell_type": "code",
      "source": [
        "\n",
        "# Q22=> Generate a dataset and implement both variance and standard deviation computations?\n",
        "\n",
        "\n",
        "import numpy as np\n",
        "import pandas as pd\n",
        "import seaborn as sns\n",
        "import matplotlib.pyplot as plt\n",
        "from scipy import stats\n",
        "\n",
        "print(np.var(data), np.std(data))\n"
      ],
      "metadata": {
        "id": "dD4r3jt15mcB"
      },
      "execution_count": null,
      "outputs": []
    },
    {
      "cell_type": "code",
      "source": [
        "\n",
        "# Q23=> Visualize skewness and kurtosis using Python libraries like matplotlib or seaborn?\n",
        "\n",
        "import numpy as np\n",
        "import pandas as pd\n",
        "import seaborn as sns\n",
        "import matplotlib.pyplot as plt\n",
        "from scipy import stats\n",
        "\n",
        "data = [10, 20, 20, 30, 40]\n",
        "sns.distplot(data, kde=True);\n",
        "plt.show()"
      ],
      "metadata": {
        "id": "11gNL77t5viK"
      },
      "execution_count": null,
      "outputs": []
    },
    {
      "cell_type": "code",
      "execution_count": null,
      "metadata": {
        "id": "AmUAGwdWxxFR"
      },
      "outputs": [],
      "source": [
        "\n",
        "\n",
        "# Q24=> Implement the Pearson and Spearman correlation coefficients for a dataset?\n",
        "\n",
        "\n",
        "import numpy as np\n",
        "import pandas as pd\n",
        "import seaborn as sns\n",
        "import matplotlib.pyplot as plt\n",
        "from scipy import stats\n",
        "\n",
        "print(stats.pearsonr(x, y)[0], stats.spearmanr(x, y)[0])\n",
        "\n"
      ]
    }
  ]
}